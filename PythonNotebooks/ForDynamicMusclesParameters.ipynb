{
 "cells": [
  {
   "cell_type": "code",
   "execution_count": 99,
   "metadata": {},
   "outputs": [],
   "source": [
    "import numpy as np\n",
    "import pandas as pd"
   ]
  },
  {
   "cell_type": "code",
   "execution_count": 100,
   "metadata": {},
   "outputs": [],
   "source": [
    "# critical values for different parameters: https://simtk-confluence.stanford.edu:8443/display/OpenSim/Getting+Started+with+CMC\n",
    "\n",
    "# the order of generalized coordinates is the following: ground_spine_rot_x\tground_spine_rot_y\tground_spine_rot_z\tscapula_abduction\tscapula_elevation\tscapula_upward_rot\tplane_elv\tshoulder_elv\taxial_rot\tpitch2\troll2\tyaw2\tpitch1\troll1\tyaw1\tground_spine_tx\tground_spine_ty\tground_spine_tz\n",
    "normal_res_force = [50, 50, 50, 50, 50, 50, 50, 50, 50, 50, 50, 50, 50, 50, 50, 50, 10, 10, 10]\n",
    "normal_RMS_res_force = [30, 30, 30, 30, 30, 30, 30, 30, 30, 30, 30, 30, 30, 30, 30, 30, 10, 10, 10]\n",
    "normal_perr = [0.035, 0.035, 0.035, 0.035, 0.035, 0.035, 0.035, 0.035, 0.035, 0.035, 0.035, 0.035, 0.035, 0.035, 0.035, 1, 1, 1]\n",
    "normal_RMS_perr = [0.035, 0.035, 0.035, 0.035, 0.035, 0.035, 0.035, 0.035, 0.035, 0.035, 0.035, 0.035, 0.035, 0.035, 0.035, 1, 1, 1]"
   ]
  },
  {
   "cell_type": "code",
   "execution_count": 101,
   "metadata": {},
   "outputs": [],
   "source": [
    "#specify folders and files here\n",
    "CMC_res_folder = \"FOLDER_WITH_CMC_RESULTS\"\n",
    "CMC_forces_file = \"MODEL_NAME_Actuation_force.sto\"\n",
    "CMC_perr_file = \"MODEL_NAME_pErr.sto\"\n",
    "CMC_states_file = \"MODEL_NAME_states.sto\""
   ]
  },
  {
   "cell_type": "code",
   "execution_count": 102,
   "metadata": {},
   "outputs": [
    {
     "name": "stdout",
     "output_type": "stream",
     "text": [
      "                              0     1   2\n",
      "spine_rot_x          116.313154  50.0  :(\n",
      "spine_rot_y          228.882614  50.0  :(\n",
      "spine_rot_z           38.644481  50.0  Ok\n",
      "scap_abd             242.894913  50.0  :(\n",
      "scap_elv             126.172527  50.0  :(\n",
      "scap_up_rot           90.698887  50.0  :(\n",
      "scap_wing            210.120489  50.0  :(\n",
      "plane_elv_res         74.337959  50.0  :(\n",
      "shoulder_elv_res     214.299898  50.0  :(\n",
      "axial_rot_res         27.650929  50.0  Ok\n",
      "pitch1_reserve         0.646467  50.0  Ok\n",
      "pitch2_reserve         0.831489  50.0  Ok\n",
      "yaw1_reserve           1.431483  50.0  Ok\n",
      "yaw2_reserve           1.569185  50.0  Ok\n",
      "roll1_reserve          1.722496  50.0  Ok\n",
      "roll2_reserve           2.57681  50.0  Ok\n",
      "ground_spine_tx_res  514.787597  10.0  :(\n",
      "ground_spine_ty_res  941.129431  10.0  :(\n",
      "ground_spine_tz_res  170.523557  10.0  :(\n"
     ]
    }
   ],
   "source": [
    "# verifying that max force fits the requirements\n",
    "# max force value in 0 column, required - in 1 column\n",
    "#force MAX\n",
    "data_forces = pd.read_csv(CMC_res_folder + CMC_forces_file, skiprows=22, delimiter=\"\\t\") \n",
    "max_values_forces = data_forces.max(axis = 0).tail(19)\n",
    "df_max_values_forces = pd.DataFrame([max_values_forces])\n",
    "df_max_values_forces.loc[1] = normal_res_force\n",
    "add_column = []\n",
    "for column in df_max_values_forces.columns:\n",
    "    if df_max_values_forces[column][0] < df_max_values_forces[column][1]:\n",
    "        add_column.append(\"Ok\")\n",
    "    else:\n",
    "        add_column.append(\":(\")\n",
    "df_max_values_forces.loc[2] = add_column\n",
    "print(df_max_values_forces.transpose())"
   ]
  },
  {
   "cell_type": "code",
   "execution_count": 103,
   "metadata": {},
   "outputs": [
    {
     "name": "stdout",
     "output_type": "stream",
     "text": [
      "                              0     1   2\n",
      "spine_rot_x           34.105764  30.0  :(\n",
      "spine_rot_y           31.072125  30.0  :(\n",
      "spine_rot_z           28.109427  30.0  Ok\n",
      "scap_abd              26.023475  30.0  Ok\n",
      "scap_elv              21.504247  30.0  Ok\n",
      "scap_up_rot           23.500237  30.0  Ok\n",
      "scap_wing              28.70171  30.0  Ok\n",
      "plane_elv_res         17.808217  30.0  Ok\n",
      "shoulder_elv_res      26.715603  30.0  Ok\n",
      "axial_rot_res          7.365748  30.0  Ok\n",
      "pitch1_reserve         1.226594  30.0  Ok\n",
      "pitch2_reserve         4.248127  30.0  Ok\n",
      "yaw1_reserve           0.334009  30.0  Ok\n",
      "yaw2_reserve           0.575441  30.0  Ok\n",
      "roll1_reserve          0.527256  30.0  Ok\n",
      "roll2_reserve          0.894361  30.0  Ok\n",
      "ground_spine_tx_res   70.013302  10.0  :(\n",
      "ground_spine_ty_res  452.739365  10.0  :(\n",
      "ground_spine_tz_res   39.499581  10.0  :(\n"
     ]
    }
   ],
   "source": [
    "# verifying that RMS for forces fits the requirements\n",
    "# actual RMS value in 0 column, required - in 1 column\n",
    "#forces RMS\n",
    "data_forces = pd.read_csv(CMC_res_folder + CMC_forces_file, skiprows=22, delimiter=\"\\t\") \n",
    "RMS_values_forces = ((data_forces ** 2).mean(axis = 0) ** 0.5).tail(19)\n",
    "df_RMS_values_forces = pd.DataFrame([RMS_values_forces])\n",
    "df_RMS_values_forces.loc[1] = normal_RMS_res_force\n",
    "add_column = []\n",
    "for column in df_RMS_values_forces.columns:\n",
    "    if df_RMS_values_forces[column][0] < df_RMS_values_forces[column][1]:\n",
    "        add_column.append(\"Ok\")\n",
    "    else:\n",
    "        add_column.append(\":(\")\n",
    "df_RMS_values_forces.loc[2] = add_column\n",
    "print(df_RMS_values_forces.transpose())"
   ]
  },
  {
   "cell_type": "code",
   "execution_count": 104,
   "metadata": {},
   "outputs": [
    {
     "name": "stdout",
     "output_type": "stream",
     "text": [
      "                           0      1   2\n",
      "ground_spine_rot_x   0.00063  0.035  Ok\n",
      "ground_spine_rot_y  0.005989  0.035  Ok\n",
      "ground_spine_rot_z  0.012146  0.035  Ok\n",
      "scapula_abduction   0.237941  0.035  :(\n",
      "scapula_elevation   0.063388  0.035  :(\n",
      "scapula_upward_rot       0.0  0.035  Ok\n",
      "plane_elv            0.01293  0.035  Ok\n",
      "shoulder_elv        0.068588  0.035  :(\n",
      "axial_rot           0.182454  0.035  :(\n",
      "pitch2                  -0.0  0.035  Ok\n",
      "roll2               0.012196  0.035  Ok\n",
      "yaw2                0.014975  0.035  Ok\n",
      "pitch1              0.189191  0.035  :(\n",
      "roll1               0.024525  0.035  Ok\n",
      "yaw1                0.003383  0.035  Ok\n",
      "ground_spine_tx     0.002699    1.0  Ok\n",
      "ground_spine_ty      0.00044    1.0  Ok\n",
      "ground_spine_tz     0.001195    1.0  Ok\n"
     ]
    }
   ],
   "source": [
    "# verifying that max perr fits the requirements\n",
    "# max perr value in 0 column, required - in 1 column\n",
    "#perr MAX\n",
    "data_perr = pd.read_csv(CMC_res_folder + CMC_perr_file, skiprows=6, delimiter=\"\\t\") \n",
    "max_values_perr = data_perr.max(axis = 0).head(19).tail(18)\n",
    "df_max_values_perr = pd.DataFrame([max_values_perr])\n",
    "df_max_values_perr.loc[1] = normal_perr\n",
    "add_column = []\n",
    "for column in df_max_values_perr.columns:\n",
    "    if df_max_values_perr[column][0] < df_max_values_perr[column][1]:\n",
    "        add_column.append(\"Ok\")\n",
    "    else:\n",
    "        add_column.append(\":(\")\n",
    "df_max_values_perr.loc[2] = add_column\n",
    "print(df_max_values_perr.transpose())"
   ]
  },
  {
   "cell_type": "code",
   "execution_count": 105,
   "metadata": {},
   "outputs": [
    {
     "name": "stdout",
     "output_type": "stream",
     "text": [
      "                           0      1   2\n",
      "ground_spine_rot_x  0.002475  0.035  Ok\n",
      "ground_spine_rot_y  0.002703  0.035  Ok\n",
      "ground_spine_rot_z  0.006717  0.035  Ok\n",
      "scapula_abduction   0.112873  0.035  :(\n",
      "scapula_elevation   0.031397  0.035  Ok\n",
      "scapula_upward_rot  0.043329  0.035  :(\n",
      "plane_elv            0.05932  0.035  :(\n",
      "shoulder_elv        0.042996  0.035  :(\n",
      "axial_rot           0.076207  0.035  :(\n",
      "pitch2              0.099699  0.035  :(\n",
      "roll2               0.008783  0.035  Ok\n",
      "yaw2                0.009118  0.035  Ok\n",
      "pitch1              0.126172  0.035  :(\n",
      "roll1               0.012198  0.035  Ok\n",
      "yaw1                0.012671  0.035  Ok\n",
      "ground_spine_tx     0.001205    1.0  Ok\n",
      "ground_spine_ty     0.000535    1.0  Ok\n",
      "ground_spine_tz     0.000398    1.0  Ok\n"
     ]
    }
   ],
   "source": [
    "# verifying that RMS for perr fits the requirements\n",
    "# actual RMS value in 0 column, required - in 1 column\n",
    "#perr RMS\n",
    "data_perr = pd.read_csv(CMC_res_folder + CMC_perr_file, skiprows=6, delimiter=\"\\t\") \n",
    "RMS_values_perr = ((data_perr ** 2).mean(axis = 0) ** 0.5).head(19).tail(18)\n",
    "df_RMS_values_perr = pd.DataFrame([RMS_values_perr])\n",
    "df_RMS_values_perr.loc[1] = normal_RMS_perr\n",
    "add_column = []\n",
    "for column in df_RMS_values_perr.columns:\n",
    "    if df_RMS_values_perr[column][0] < df_RMS_values_perr[column][1]:\n",
    "        add_column.append(\"Ok\")\n",
    "    else:\n",
    "        add_column.append(\":(\")\n",
    "df_RMS_values_perr.loc[2] = add_column\n",
    "print(df_RMS_values_perr.transpose())\n"
   ]
  },
  {
   "cell_type": "code",
   "execution_count": null,
   "metadata": {},
   "outputs": [],
   "source": [
    "# this is a path to the file where optimal fiber lengths for current model should be stored\n",
    "# this data can be obtained with fiber_lengths_script.py\n",
    "optimal_length_file = \"FILE_NAME\""
   ]
  },
  {
   "cell_type": "code",
   "execution_count": 107,
   "metadata": {},
   "outputs": [
    {
     "name": "stdout",
     "output_type": "stream",
     "text": [
      "                           min       max      left     right   optimal  ok\n",
      "Rhomboideus_S         0.142544  0.162169  0.069363  0.208088  0.138725  ok\n",
      "Rhomboideus_I         0.135654  0.171274  0.079810  0.239431  0.159621  ok\n",
      "DeltoideusClavicle_A  0.115149  0.140861  0.048870  0.146609  0.097739  ok\n",
      "DeltoideusScapula_P   0.050592  0.058589  0.054337  0.163012  0.108674  :(\n",
      "DeltoideusScapula_M   0.079432  0.112096  0.041566  0.124699  0.083132  ok\n",
      "Infraspinatus_I       0.051577  0.061959  0.041501  0.124502  0.083002  ok\n",
      "Infraspinatus_S       0.061608  0.081605  0.041476  0.124427  0.082951  ok\n",
      "TeresMinor            0.033216  0.037110  0.035936  0.107809  0.071873  :(\n",
      "Subscapularis_S       0.077362  0.088296  0.037694  0.113083  0.075389  ok\n",
      "Subscapularis_M       0.068379  0.086077  0.041406  0.124218  0.082812  ok\n",
      "Subscapularis_I       0.081518  0.092654  0.042351  0.127052  0.084701  ok\n",
      "Supraspinatus_P       0.063236  0.087181  0.040156  0.120467  0.080311  ok\n",
      "Supraspinatus_A       0.068428  0.087718  0.033344  0.100033  0.066689  ok\n",
      "TRIlong               0.065072  0.094072  0.050783  0.152348  0.101566  ok\n",
      "BIC_long              0.138303  0.176220  0.077718  0.233153  0.155435  ok\n",
      "BIC_brevis            0.172655  0.190954  0.066645  0.199936  0.133290  ok\n",
      "Omo_hyoid             0.042574  0.048200  0.021357  0.064072  0.042715  ok\n",
      "Omo_hyoid_L           0.042095  0.048377  0.021357  0.064072  0.042715  ok\n",
      "stern_mast            0.124268  0.130656  0.054555  0.163664  0.109109  ok\n",
      "stern_mast_L          0.123686  0.128214  0.054555  0.163664  0.109109  ok\n",
      "cleid_mast            0.122709  0.138041  0.059970  0.179910  0.119940  ok\n",
      "cleid_mast_L          0.128602  0.135519  0.059368  0.178105  0.118737  ok\n",
      "scalenus_ant          0.052408  0.056744  0.021553  0.064659  0.043106  ok\n",
      "scalenus_ant_L        0.053041  0.056242  0.021553  0.064659  0.043106  ok\n",
      "scalenus_med          0.057346  0.061874  0.024422  0.073265  0.048843  ok\n",
      "scalenus_med_L        0.057348  0.062130  0.024422  0.073265  0.048843  ok\n",
      "scalenus_post         0.050130  0.053461  0.032375  0.097126  0.064751  ok\n",
      "scalenus_post_L       0.049556  0.053626  0.032375  0.097126  0.064751  ok\n",
      "levator_scap          0.168051  0.184623  0.061410  0.184231  0.122821  :(\n",
      "levator_scap_L        0.171747  0.182565  0.062078  0.186234  0.124156  ok\n",
      "trap_acr              0.046317  0.088058  0.050412  0.151235  0.100823  :(\n",
      "trap_acr_L            0.089076  0.090590  0.043565  0.130695  0.087130  ok\n",
      "trap_cl               0.064488  0.090747  0.047908  0.143724  0.095816  ok\n",
      "trap_cl_L             0.090796  0.099193  0.046554  0.139663  0.093109  ok\n"
     ]
    }
   ],
   "source": [
    "# the fiber length on model should be in [0.8 * optimal_fiber_length, 1.2 * optimal_fiber_length]\n",
    "# in the table min/max are min/max values of fiber length during the movement, \n",
    "# right/left - 0.8 * optimal_fiber_length/ 1.2 * optimal_fiber_length \n",
    "#muscle lengths\n",
    "data_length = pd.read_csv(CMC_res_folder + CMC_states_file, skiprows=6, delimiter=\"\\t\") \n",
    "optimal_length = pd.read_csv(optimal_length_file, skiprows=0, delimiter=\";\", header=None).T\n",
    "optimal_length.columns = optimal_length.iloc[0]\n",
    "optimal_length.drop(0,inplace=True) \n",
    "min_data = data_length.min(axis = 0)\n",
    "max_data = data_length.max(axis = 0)\n",
    "min_max_length = pd.DataFrame(columns=[\"min\", \"max\", \"left\", \"right\", \"optimal\", \"ok\"])\n",
    "for name in data_length.columns:\n",
    "    parts = name.split(\"/\")\n",
    "    if len(parts) >= 4 and parts[3] == \"fiber_length\":\n",
    "        if(min_data[name] >= 0.8 * optimal_length[parts[2]][1] and max_data[name] <= 1.2 * optimal_length[parts[2]][1]):\n",
    "            min_max_length.loc[parts[2]] = [min_data[name], max_data[name], 0.8 * optimal_length[parts[2]][1], 1.2 *  optimal_length[parts[2]][1],  optimal_length[parts[2]][1], \"ok\"]\n",
    "        else:\n",
    "            min_max_length.loc[parts[2]] = [min_data[name], max_data[name], 0.8 * optimal_length[parts[2]][1], 1.2 *  optimal_length[parts[2]][1],  optimal_length[parts[2]][1], \":(\"]\n",
    "print(min_max_length)"
   ]
  }
 ],
 "metadata": {
  "interpreter": {
   "hash": "98268649b07a47781d5948ce12f5a955f33c3b6c0f580b157c22d85ec1251b69"
  },
  "kernelspec": {
   "display_name": "Python 3.8.7 64-bit",
   "name": "python3"
  },
  "language_info": {
   "codemirror_mode": {
    "name": "ipython",
    "version": 3
   },
   "file_extension": ".py",
   "mimetype": "text/x-python",
   "name": "python",
   "nbconvert_exporter": "python",
   "pygments_lexer": "ipython3",
   "version": "3.8.7"
  },
  "orig_nbformat": 4
 },
 "nbformat": 4,
 "nbformat_minor": 2
}
