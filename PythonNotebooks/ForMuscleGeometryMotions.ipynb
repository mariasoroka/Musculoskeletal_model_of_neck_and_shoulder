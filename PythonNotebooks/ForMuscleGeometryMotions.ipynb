{
 "cells": [
  {
   "cell_type": "code",
   "execution_count": null,
   "metadata": {},
   "outputs": [],
   "source": [
    "#This notebook can be used to compare moment arms from Plotter Tool against some motion and to compare it with experimental data"
   ]
  },
  {
   "cell_type": "code",
   "execution_count": null,
   "metadata": {},
   "outputs": [],
   "source": [
    "import matplotlib.pyplot as plt\n",
    "import numpy as np\n",
    "import pandas as pd\n",
    "%matplotlib inline"
   ]
  },
  {
   "cell_type": "code",
   "execution_count": null,
   "metadata": {},
   "outputs": [],
   "source": [
    "#specify folders here\n",
    "theoretical_folder = \"SOME_FOLDER_WITH_THEORETICAL_DATA\"\n",
    "result_folder = \"FOLDER_FOR_RESULTS\"\n",
    "motion_folder = \"FOLDER_WITH_MOTIONS\""
   ]
  },
  {
   "cell_type": "code",
   "execution_count": null,
   "metadata": {},
   "outputs": [],
   "source": [
    "#this is a dictionary where for each \"theoretical\" muscle its equivalent in OpenSim model is specified\n",
    "muscles = {\n",
    "\"Anterior_deltoid\" : \"DeltoideusClavicle_A\",\n",
    "\"Middle_deltoid\" :  \"DeltoideusScapula_M\",\n",
    "\"Superior_infraspinatus\" : \"Infraspinatus_S\",\n",
    "\"Anterior_supraspinatus\" : \"Supraspinatus_A\",\n",
    "\"Middle_lat_dorsi\" :  \"LatissimusDorsi_M\",\n",
    "\"Superior_lat_dorsi\" : \"LatissimusDorsi_S\",\n",
    "\"Inferior_infraspinatus\" :  \"Infraspinatus_I\",\n",
    "\"Middle_pec_major\" :   \"PectoralisMajorThorax_M\",\n",
    "\"Superior_pec_major\" : \"PectoralisMajorClavicle_S\",\n",
    "\"Inferior_lat_dorsi\" :  \"LatissimusDorsi_I\",\n",
    "\"Middle_subscapularis\" :  \"Subscapularis_M\",\n",
    "\"Superior_subscapularis\" : \"Subscapularis_S\",\n",
    "\"Inferior_pec_major\" :  \"PectoralisMajorThorax_I\",\n",
    "\"Posterior_deltoid\" :  \"DeltoideusScapula_P\",\n",
    "\"Teres_major\" : \"TeresMajor\",\n",
    "\"Inferior_subscapularis\" :  \"Subscapularis_I\",\n",
    "\"Posterior_supraspinatus\" :  \"Supraspinatus_P\",\n",
    "\"Teres_minor\" : \"TeresMinor\"\n",
    "}"
   ]
  },
  {
   "cell_type": "code",
   "execution_count": null,
   "metadata": {},
   "outputs": [],
   "source": [
    "#deltoideus\n",
    "#specify the motion file here\n",
    "motion_file = \"SOME_FILE.mot\"\n",
    "motion_type = \"abduction\"\n",
    "data_theory = {}\n",
    "data_plot = {}\n",
    "data_plot_shoulder = {}\n",
    "data_plot = pd.read_csv(result_folder + \"deltoideus_abduction_motion\", skiprows=6, delimiter=\"\\t\") \n",
    "data_motion = pd.read_csv(motion_folder + motion_file, skiprows=10, delimiter=\"\\t\") \n",
    "data_plot_shoulder = pd.read_csv(result_folder + \"shoulder_deltoideus_abduction\", skiprows=6, delimiter=\"\\t\") \n",
    "for muscle in muscles:\n",
    "    if muscles[muscle] in data_plot.columns:\n",
    "        data_theory[muscle] = np.loadtxt(theoretical_folder + muscle + \"_\" + motion_type + \".csv\", delimiter=\";\",  skiprows=0)\n",
    "for key, value in data_theory.items():\n",
    "    axes[row, 0].scatter(value[:, 0], value[:, 1], s=2, c=\"tab:orange\", label=\"exp\")\n",
    "#note that 1.07 here is a normalization coefficient\n",
    "    axes[row, 0].plot(data_motion[\"shoulder_elv\"], data_plot[muscles[key]] * 1000 / 1.07, label=\"my_model\")\n",
    "    axes[row, 0].title.set_text(key + \" abduction\")\n",
    "    axes[row, 0].legend()\n",
    "    row += 1\n",
    "plt.show()"
   ]
  },
  {
   "cell_type": "code",
   "execution_count": null,
   "metadata": {},
   "outputs": [],
   "source": []
  }
 ],
 "metadata": {
  "language_info": {
   "name": "python"
  },
  "orig_nbformat": 4
 },
 "nbformat": 4,
 "nbformat_minor": 2
}
